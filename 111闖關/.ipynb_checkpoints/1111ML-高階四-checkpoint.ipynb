{
 "cells": [
  {
   "cell_type": "markdown",
   "metadata": {
    "id": "zVUp9xdnMC49"
   },
   "source": [
    "請就所提供的資料以財務特徵(X1-X95)預測公司是否破產(Y)，並新增衍生變數，比較不同的機器學習模型，並說明分析結果\n",
    "\n",
    "(Precision, Recall, Accuracy若未達0.9，請說明如何發展衍生變數使模式具有良好的預測能力)。\n",
    "\n",
    "類別:\n",
    "Net Income Flag(94)、Liability-Assets Flag(85)、Bankrupt?"
   ]
  },
  {
   "cell_type": "markdown",
   "metadata": {
    "id": "Qmrka0A1bKUO"
   },
   "source": [
    "#載入檔案和套件"
   ]
  },
  {
   "cell_type": "code",
   "execution_count": 20,
   "metadata": {
    "executionInfo": {
     "elapsed": 254,
     "status": "ok",
     "timestamp": 1673406339866,
     "user": {
      "displayName": "張啟玥Selina",
      "userId": "14947581420412888356"
     },
     "user_tz": -480
    },
    "id": "f8_Aus8gLZdf"
   },
   "outputs": [],
   "source": [
    "import pandas as pd\n",
    "import numpy as np\n",
    "from sklearn.model_selection import train_test_split\n",
    "from sklearn.metrics import mean_squared_error\n",
    "import statsmodels.api as sm\n",
    "from scipy import stats\n",
    "from sklearn import metrics\n",
    "from imblearn.under_sampling import RandomUnderSampler"
   ]
  },
  {
   "cell_type": "markdown",
   "metadata": {
    "id": "mziPULXFbuNp"
   },
   "source": [
    "#原始資料75:25"
   ]
  },
  {
   "cell_type": "code",
   "execution_count": 21,
   "metadata": {
    "executionInfo": {
     "elapsed": 21124,
     "status": "ok",
     "timestamp": 1673406362152,
     "user": {
      "displayName": "張啟玥Selina",
      "userId": "14947581420412888356"
     },
     "user_tz": -480
    },
    "id": "akwcKBorMmMJ"
   },
   "outputs": [],
   "source": [
    "df=pd.read_excel(\"/content/drive/MyDrive/機器學習/闖關/預測公司破產資料.xlsx\")"
   ]
  },
  {
   "cell_type": "code",
   "execution_count": null,
   "metadata": {
    "colab": {
     "base_uri": "https://localhost:8080/",
     "height": 143
    },
    "executionInfo": {
     "elapsed": 18,
     "status": "ok",
     "timestamp": 1673350402831,
     "user": {
      "displayName": "張啟玥Selina",
      "userId": "14947581420412888356"
     },
     "user_tz": -480
    },
    "id": "akH-i2AO8GxQ",
    "outputId": "feccb928-6bb7-45ad-895b-482841aff4bc"
   },
   "outputs": [
    {
     "data": {
      "text/html": [
       "\n",
       "  <div id=\"df-3345a2a2-0875-4451-ab86-85a92cb2dc5f\">\n",
       "    <div class=\"colab-df-container\">\n",
       "      <div>\n",
       "<style scoped>\n",
       "    .dataframe tbody tr th:only-of-type {\n",
       "        vertical-align: middle;\n",
       "    }\n",
       "\n",
       "    .dataframe tbody tr th {\n",
       "        vertical-align: top;\n",
       "    }\n",
       "\n",
       "    .dataframe thead th {\n",
       "        text-align: right;\n",
       "    }\n",
       "</style>\n",
       "<table border=\"1\" class=\"dataframe\">\n",
       "  <thead>\n",
       "    <tr style=\"text-align: right;\">\n",
       "      <th></th>\n",
       "      <th>Frequence_是否破產</th>\n",
       "      <th>Percentage_是否破產</th>\n",
       "    </tr>\n",
       "    <tr>\n",
       "      <th>Bankrupt?</th>\n",
       "      <th></th>\n",
       "      <th></th>\n",
       "    </tr>\n",
       "  </thead>\n",
       "  <tbody>\n",
       "    <tr>\n",
       "      <th>0.0</th>\n",
       "      <td>6599</td>\n",
       "      <td>0.967737</td>\n",
       "    </tr>\n",
       "    <tr>\n",
       "      <th>1.0</th>\n",
       "      <td>220</td>\n",
       "      <td>0.032263</td>\n",
       "    </tr>\n",
       "  </tbody>\n",
       "</table>\n",
       "</div>\n",
       "      <button class=\"colab-df-convert\" onclick=\"convertToInteractive('df-3345a2a2-0875-4451-ab86-85a92cb2dc5f')\"\n",
       "              title=\"Convert this dataframe to an interactive table.\"\n",
       "              style=\"display:none;\">\n",
       "        \n",
       "  <svg xmlns=\"http://www.w3.org/2000/svg\" height=\"24px\"viewBox=\"0 0 24 24\"\n",
       "       width=\"24px\">\n",
       "    <path d=\"M0 0h24v24H0V0z\" fill=\"none\"/>\n",
       "    <path d=\"M18.56 5.44l.94 2.06.94-2.06 2.06-.94-2.06-.94-.94-2.06-.94 2.06-2.06.94zm-11 1L8.5 8.5l.94-2.06 2.06-.94-2.06-.94L8.5 2.5l-.94 2.06-2.06.94zm10 10l.94 2.06.94-2.06 2.06-.94-2.06-.94-.94-2.06-.94 2.06-2.06.94z\"/><path d=\"M17.41 7.96l-1.37-1.37c-.4-.4-.92-.59-1.43-.59-.52 0-1.04.2-1.43.59L10.3 9.45l-7.72 7.72c-.78.78-.78 2.05 0 2.83L4 21.41c.39.39.9.59 1.41.59.51 0 1.02-.2 1.41-.59l7.78-7.78 2.81-2.81c.8-.78.8-2.07 0-2.86zM5.41 20L4 18.59l7.72-7.72 1.47 1.35L5.41 20z\"/>\n",
       "  </svg>\n",
       "      </button>\n",
       "      \n",
       "  <style>\n",
       "    .colab-df-container {\n",
       "      display:flex;\n",
       "      flex-wrap:wrap;\n",
       "      gap: 12px;\n",
       "    }\n",
       "\n",
       "    .colab-df-convert {\n",
       "      background-color: #E8F0FE;\n",
       "      border: none;\n",
       "      border-radius: 50%;\n",
       "      cursor: pointer;\n",
       "      display: none;\n",
       "      fill: #1967D2;\n",
       "      height: 32px;\n",
       "      padding: 0 0 0 0;\n",
       "      width: 32px;\n",
       "    }\n",
       "\n",
       "    .colab-df-convert:hover {\n",
       "      background-color: #E2EBFA;\n",
       "      box-shadow: 0px 1px 2px rgba(60, 64, 67, 0.3), 0px 1px 3px 1px rgba(60, 64, 67, 0.15);\n",
       "      fill: #174EA6;\n",
       "    }\n",
       "\n",
       "    [theme=dark] .colab-df-convert {\n",
       "      background-color: #3B4455;\n",
       "      fill: #D2E3FC;\n",
       "    }\n",
       "\n",
       "    [theme=dark] .colab-df-convert:hover {\n",
       "      background-color: #434B5C;\n",
       "      box-shadow: 0px 1px 3px 1px rgba(0, 0, 0, 0.15);\n",
       "      filter: drop-shadow(0px 1px 2px rgba(0, 0, 0, 0.3));\n",
       "      fill: #FFFFFF;\n",
       "    }\n",
       "  </style>\n",
       "\n",
       "      <script>\n",
       "        const buttonEl =\n",
       "          document.querySelector('#df-3345a2a2-0875-4451-ab86-85a92cb2dc5f button.colab-df-convert');\n",
       "        buttonEl.style.display =\n",
       "          google.colab.kernel.accessAllowed ? 'block' : 'none';\n",
       "\n",
       "        async function convertToInteractive(key) {\n",
       "          const element = document.querySelector('#df-3345a2a2-0875-4451-ab86-85a92cb2dc5f');\n",
       "          const dataTable =\n",
       "            await google.colab.kernel.invokeFunction('convertToInteractive',\n",
       "                                                     [key], {});\n",
       "          if (!dataTable) return;\n",
       "\n",
       "          const docLinkHtml = 'Like what you see? Visit the ' +\n",
       "            '<a target=\"_blank\" href=https://colab.research.google.com/notebooks/data_table.ipynb>data table notebook</a>'\n",
       "            + ' to learn more about interactive tables.';\n",
       "          element.innerHTML = '';\n",
       "          dataTable['output_type'] = 'display_data';\n",
       "          await google.colab.output.renderOutput(dataTable, element);\n",
       "          const docLink = document.createElement('div');\n",
       "          docLink.innerHTML = docLinkHtml;\n",
       "          element.appendChild(docLink);\n",
       "        }\n",
       "      </script>\n",
       "    </div>\n",
       "  </div>\n",
       "  "
      ],
      "text/plain": [
       "           Frequence_是否破產  Percentage_是否破產\n",
       "Bankrupt?                                 \n",
       "0.0                  6599         0.967737\n",
       "1.0                   220         0.032263"
      ]
     },
     "execution_count": 90,
     "metadata": {},
     "output_type": "execute_result"
    }
   ],
   "source": [
    "f=df.groupby('Bankrupt?')\n",
    "frequence=f.size()\n",
    "flist=pd.DataFrame(frequence,columns=['Frequence_是否破產'])\n",
    "f=df.groupby('Bankrupt?')\n",
    "percentage=f.size()/len(df)\n",
    "plist=pd.DataFrame(percentage,columns=['Percentage_是否破產'])\n",
    "a=flist.merge(plist,on = 'Bankrupt?')\n",
    "a"
   ]
  },
  {
   "cell_type": "code",
   "execution_count": 22,
   "metadata": {
    "executionInfo": {
     "elapsed": 13,
     "status": "ok",
     "timestamp": 1673406362152,
     "user": {
      "displayName": "張啟玥Selina",
      "userId": "14947581420412888356"
     },
     "user_tz": -480
    },
    "id": "_RRnME14gJqE"
   },
   "outputs": [],
   "source": [
    "data=df"
   ]
  },
  {
   "cell_type": "code",
   "execution_count": null,
   "metadata": {
    "id": "07tyU8t4V48h"
   },
   "outputs": [],
   "source": [
    "#給下面自變數X取除了Bankrupt?以外的欄位名稱，不然一個一個打會打到亂掉\n",
    "a25=data.copy()\n",
    "a25=a25.drop('Bankrupt?',axis=1)"
   ]
  },
  {
   "cell_type": "code",
   "execution_count": null,
   "metadata": {
    "id": "q8nA0MyfVjD4"
   },
   "outputs": [],
   "source": [
    "X=a25[a25.columns]\n",
    "y=data['Bankrupt?']\n",
    "X_train, X_test,y_train,y_test = train_test_split(X,y,test_size = 0.25 ,random_state=33)"
   ]
  },
  {
   "cell_type": "markdown",
   "metadata": {
    "id": "Wm9VDHy2Ws8a"
   },
   "source": [
    "決策樹"
   ]
  },
  {
   "cell_type": "code",
   "execution_count": null,
   "metadata": {
    "id": "9sAG9KkHVj8O"
   },
   "outputs": [],
   "source": [
    "from sklearn import tree\n",
    "DT = tree.DecisionTreeClassifier(max_depth=2)\n",
    "DT= DT.fit(X_train, y_train)"
   ]
  },
  {
   "cell_type": "code",
   "execution_count": null,
   "metadata": {
    "colab": {
     "base_uri": "https://localhost:8080/"
    },
    "executionInfo": {
     "elapsed": 13,
     "status": "ok",
     "timestamp": 1673350951868,
     "user": {
      "displayName": "張啟玥Selina",
      "userId": "14947581420412888356"
     },
     "user_tz": -480
    },
    "id": "MDG4FMdtWlT9",
    "outputId": "a9c50084-eb93-41bd-9841-1940c5e77c2d"
   },
   "outputs": [
    {
     "name": "stdout",
     "output_type": "stream",
     "text": [
      "[[4941    0]\n",
      " [ 173    0]]\n",
      "======================================================\n",
      "\n",
      "              precision    recall  f1-score   support\n",
      "\n",
      "         0.0       0.97      1.00      0.98      4941\n",
      "         1.0       0.00      0.00      0.00       173\n",
      "\n",
      "    accuracy                           0.97      5114\n",
      "   macro avg       0.48      0.50      0.49      5114\n",
      "weighted avg       0.93      0.97      0.95      5114\n",
      "\n"
     ]
    },
    {
     "name": "stderr",
     "output_type": "stream",
     "text": [
      "/usr/local/lib/python3.8/dist-packages/sklearn/metrics/_classification.py:1318: UndefinedMetricWarning: Precision and F-score are ill-defined and being set to 0.0 in labels with no predicted samples. Use `zero_division` parameter to control this behavior.\n",
      "  _warn_prf(average, modifier, msg_start, len(result))\n",
      "/usr/local/lib/python3.8/dist-packages/sklearn/metrics/_classification.py:1318: UndefinedMetricWarning: Precision and F-score are ill-defined and being set to 0.0 in labels with no predicted samples. Use `zero_division` parameter to control this behavior.\n",
      "  _warn_prf(average, modifier, msg_start, len(result))\n",
      "/usr/local/lib/python3.8/dist-packages/sklearn/metrics/_classification.py:1318: UndefinedMetricWarning: Precision and F-score are ill-defined and being set to 0.0 in labels with no predicted samples. Use `zero_division` parameter to control this behavior.\n",
      "  _warn_prf(average, modifier, msg_start, len(result))\n"
     ]
    }
   ],
   "source": [
    "#訓練\n",
    "DT_pred= DT.predict(X_train)\n",
    "from sklearn.metrics import classification_report,confusion_matrix\n",
    "print(confusion_matrix(y_train,DT_pred))\n",
    "print(\"======================================================\\n\")\n",
    "print(classification_report(y_train,DT_pred))"
   ]
  },
  {
   "cell_type": "code",
   "execution_count": null,
   "metadata": {
    "colab": {
     "base_uri": "https://localhost:8080/"
    },
    "executionInfo": {
     "elapsed": 11,
     "status": "ok",
     "timestamp": 1673350951869,
     "user": {
      "displayName": "張啟玥Selina",
      "userId": "14947581420412888356"
     },
     "user_tz": -480
    },
    "id": "4HZoUYVpWlcf",
    "outputId": "eb4e70d6-255b-42a0-ab47-4bc5de22a696"
   },
   "outputs": [
    {
     "name": "stdout",
     "output_type": "stream",
     "text": [
      "[[1658    0]\n",
      " [  47    0]]\n",
      "======================================================\n",
      "\n",
      "              precision    recall  f1-score   support\n",
      "\n",
      "         0.0       0.97      1.00      0.99      1658\n",
      "         1.0       0.00      0.00      0.00        47\n",
      "\n",
      "    accuracy                           0.97      1705\n",
      "   macro avg       0.49      0.50      0.49      1705\n",
      "weighted avg       0.95      0.97      0.96      1705\n",
      "\n"
     ]
    },
    {
     "name": "stderr",
     "output_type": "stream",
     "text": [
      "/usr/local/lib/python3.8/dist-packages/sklearn/metrics/_classification.py:1318: UndefinedMetricWarning: Precision and F-score are ill-defined and being set to 0.0 in labels with no predicted samples. Use `zero_division` parameter to control this behavior.\n",
      "  _warn_prf(average, modifier, msg_start, len(result))\n",
      "/usr/local/lib/python3.8/dist-packages/sklearn/metrics/_classification.py:1318: UndefinedMetricWarning: Precision and F-score are ill-defined and being set to 0.0 in labels with no predicted samples. Use `zero_division` parameter to control this behavior.\n",
      "  _warn_prf(average, modifier, msg_start, len(result))\n",
      "/usr/local/lib/python3.8/dist-packages/sklearn/metrics/_classification.py:1318: UndefinedMetricWarning: Precision and F-score are ill-defined and being set to 0.0 in labels with no predicted samples. Use `zero_division` parameter to control this behavior.\n",
      "  _warn_prf(average, modifier, msg_start, len(result))\n"
     ]
    }
   ],
   "source": [
    "#測試\n",
    "DT_pred= DT.predict(X_test)\n",
    "from sklearn.metrics import classification_report,confusion_matrix\n",
    "print(confusion_matrix(y_test,DT_pred))\n",
    "print(\"======================================================\\n\")\n",
    "print(classification_report(y_test,DT_pred))"
   ]
  },
  {
   "cell_type": "markdown",
   "metadata": {
    "id": "xXmx5sZfWvqv"
   },
   "source": [
    "隨機森林"
   ]
  },
  {
   "cell_type": "code",
   "execution_count": null,
   "metadata": {
    "colab": {
     "base_uri": "https://localhost:8080/"
    },
    "executionInfo": {
     "elapsed": 1073,
     "status": "ok",
     "timestamp": 1673350952937,
     "user": {
      "displayName": "張啟玥Selina",
      "userId": "14947581420412888356"
     },
     "user_tz": -480
    },
    "id": "v0uqxh2-WpjW",
    "outputId": "98347052-f4d8-46b8-d08e-abfc4996e966"
   },
   "outputs": [
    {
     "data": {
      "text/plain": [
       "RandomForestClassifier(max_features='sqrt', n_estimators=25, oob_score=True)"
      ]
     },
     "execution_count": 186,
     "metadata": {},
     "output_type": "execute_result"
    }
   ],
   "source": [
    "from sklearn.ensemble import RandomForestClassifier\n",
    "RF = RandomForestClassifier(n_estimators=25,max_features=\"sqrt\",oob_score=True)\n",
    "RF.fit(X_train.values,y_train.values)"
   ]
  },
  {
   "cell_type": "code",
   "execution_count": null,
   "metadata": {
    "colab": {
     "base_uri": "https://localhost:8080/"
    },
    "executionInfo": {
     "elapsed": 8,
     "status": "ok",
     "timestamp": 1673350952938,
     "user": {
      "displayName": "張啟玥Selina",
      "userId": "14947581420412888356"
     },
     "user_tz": -480
    },
    "id": "siZSFlBvWzlc",
    "outputId": "234c098e-1928-47a3-8852-a2e8271f6c6b"
   },
   "outputs": [
    {
     "name": "stdout",
     "output_type": "stream",
     "text": [
      "[[4941    0]\n",
      " [   5  168]]\n",
      "======================================================\n",
      "\n",
      "              precision    recall  f1-score   support\n",
      "\n",
      "         0.0       1.00      1.00      1.00      4941\n",
      "         1.0       1.00      0.97      0.99       173\n",
      "\n",
      "    accuracy                           1.00      5114\n",
      "   macro avg       1.00      0.99      0.99      5114\n",
      "weighted avg       1.00      1.00      1.00      5114\n",
      "\n"
     ]
    },
    {
     "name": "stderr",
     "output_type": "stream",
     "text": [
      "/usr/local/lib/python3.8/dist-packages/sklearn/base.py:443: UserWarning: X has feature names, but RandomForestClassifier was fitted without feature names\n",
      "  warnings.warn(\n"
     ]
    }
   ],
   "source": [
    "#訓練\n",
    "RF_pred= RF.predict(X_train)\n",
    "from sklearn.metrics import classification_report,confusion_matrix\n",
    "print(confusion_matrix(y_train,RF_pred))\n",
    "print(\"======================================================\\n\")\n",
    "print(classification_report(y_train,RF_pred))"
   ]
  },
  {
   "cell_type": "code",
   "execution_count": null,
   "metadata": {
    "colab": {
     "base_uri": "https://localhost:8080/"
    },
    "executionInfo": {
     "elapsed": 4,
     "status": "ok",
     "timestamp": 1673350952938,
     "user": {
      "displayName": "張啟玥Selina",
      "userId": "14947581420412888356"
     },
     "user_tz": -480
    },
    "id": "tyN630eGW2_M",
    "outputId": "28fcfd21-0375-4d81-d44f-006d56e649f0"
   },
   "outputs": [
    {
     "name": "stdout",
     "output_type": "stream",
     "text": [
      "[[1653    5]\n",
      " [  40    7]]\n",
      "======================================================\n",
      "\n",
      "              precision    recall  f1-score   support\n",
      "\n",
      "         0.0       0.98      1.00      0.99      1658\n",
      "         1.0       0.58      0.15      0.24        47\n",
      "\n",
      "    accuracy                           0.97      1705\n",
      "   macro avg       0.78      0.57      0.61      1705\n",
      "weighted avg       0.97      0.97      0.97      1705\n",
      "\n"
     ]
    },
    {
     "name": "stderr",
     "output_type": "stream",
     "text": [
      "/usr/local/lib/python3.8/dist-packages/sklearn/base.py:443: UserWarning: X has feature names, but RandomForestClassifier was fitted without feature names\n",
      "  warnings.warn(\n"
     ]
    }
   ],
   "source": [
    "#測試\n",
    "RF_pred= RF.predict(X_test)\n",
    "from sklearn.metrics import classification_report,confusion_matrix\n",
    "print(confusion_matrix(y_test,RF_pred))\n",
    "print(\"======================================================\\n\")\n",
    "print(classification_report(y_test,RF_pred))"
   ]
  },
  {
   "cell_type": "markdown",
   "metadata": {
    "id": "gFV7P3atW90G"
   },
   "source": [
    "羅吉斯回歸"
   ]
  },
  {
   "cell_type": "code",
   "execution_count": null,
   "metadata": {
    "id": "PFWV0nFJW7E4"
   },
   "outputs": [],
   "source": [
    "from sklearn.linear_model import LogisticRegression\n",
    "LR = LogisticRegression(solver='newton-cg')\n",
    "LR.fit(X_train, y_train)"
   ]
  },
  {
   "cell_type": "code",
   "execution_count": null,
   "metadata": {
    "colab": {
     "base_uri": "https://localhost:8080/"
    },
    "executionInfo": {
     "elapsed": 519,
     "status": "ok",
     "timestamp": 1673350955093,
     "user": {
      "displayName": "張啟玥Selina",
      "userId": "14947581420412888356"
     },
     "user_tz": -480
    },
    "id": "WF1zxTJiXCEK",
    "outputId": "ceee0d94-5991-408a-f89b-7f6e8d943074"
   },
   "outputs": [
    {
     "name": "stdout",
     "output_type": "stream",
     "text": [
      "[[4926   15]\n",
      " [ 169    4]]\n",
      "======================================================\n",
      "\n",
      "              precision    recall  f1-score   support\n",
      "\n",
      "         0.0       0.97      1.00      0.98      4941\n",
      "         1.0       0.21      0.02      0.04       173\n",
      "\n",
      "    accuracy                           0.96      5114\n",
      "   macro avg       0.59      0.51      0.51      5114\n",
      "weighted avg       0.94      0.96      0.95      5114\n",
      "\n"
     ]
    }
   ],
   "source": [
    "#訓練\n",
    "from sklearn.metrics import classification_report,confusion_matrix\n",
    "LR_pred= LR.predict(X_train)\n",
    "print(confusion_matrix(y_train,LR_pred))\n",
    "print(\"======================================================\\n\")\n",
    "print(classification_report(y_train,LR_pred))"
   ]
  },
  {
   "cell_type": "code",
   "execution_count": null,
   "metadata": {
    "colab": {
     "base_uri": "https://localhost:8080/"
    },
    "executionInfo": {
     "elapsed": 10,
     "status": "ok",
     "timestamp": 1673350955094,
     "user": {
      "displayName": "張啟玥Selina",
      "userId": "14947581420412888356"
     },
     "user_tz": -480
    },
    "id": "gQK4l04PXCPG",
    "outputId": "fa59f796-d8ee-4208-8203-3f1a02a89611"
   },
   "outputs": [
    {
     "name": "stdout",
     "output_type": "stream",
     "text": [
      "[[1647   11]\n",
      " [  47    0]]\n",
      "======================================================\n",
      "\n",
      "              precision    recall  f1-score   support\n",
      "\n",
      "         0.0       0.97      0.99      0.98      1658\n",
      "         1.0       0.00      0.00      0.00        47\n",
      "\n",
      "    accuracy                           0.97      1705\n",
      "   macro avg       0.49      0.50      0.49      1705\n",
      "weighted avg       0.95      0.97      0.96      1705\n",
      "\n"
     ]
    }
   ],
   "source": [
    "#測試\n",
    "from sklearn.metrics import classification_report,confusion_matrix\n",
    "LR_pred= LR.predict(X_test)\n",
    "print(confusion_matrix(y_test,LR_pred))\n",
    "print(\"======================================================\\n\")\n",
    "print(classification_report(y_test,LR_pred))"
   ]
  },
  {
   "cell_type": "markdown",
   "metadata": {
    "id": "qfAasx1ZkTjQ"
   },
   "source": [
    "KNN"
   ]
  },
  {
   "cell_type": "code",
   "execution_count": null,
   "metadata": {
    "colab": {
     "base_uri": "https://localhost:8080/"
    },
    "executionInfo": {
     "elapsed": 7,
     "status": "ok",
     "timestamp": 1673350955094,
     "user": {
      "displayName": "張啟玥Selina",
      "userId": "14947581420412888356"
     },
     "user_tz": -480
    },
    "id": "JevWap6vXHHE",
    "outputId": "099cbe06-9ff6-4e44-fd0b-e2bea66dfcc5"
   },
   "outputs": [
    {
     "data": {
      "text/plain": [
       "KNeighborsClassifier(n_neighbors=3)"
      ]
     },
     "execution_count": 192,
     "metadata": {},
     "output_type": "execute_result"
    }
   ],
   "source": [
    "from sklearn.neighbors import KNeighborsClassifier\n",
    "knn = KNeighborsClassifier(n_neighbors=3)\n",
    "knn.fit(X_train, y_train)"
   ]
  },
  {
   "cell_type": "code",
   "execution_count": null,
   "metadata": {
    "colab": {
     "base_uri": "https://localhost:8080/"
    },
    "executionInfo": {
     "elapsed": 312,
     "status": "ok",
     "timestamp": 1673350955402,
     "user": {
      "displayName": "張啟玥Selina",
      "userId": "14947581420412888356"
     },
     "user_tz": -480
    },
    "id": "1TxWFDaOkVMf",
    "outputId": "432a015d-5510-4f0d-f27a-568185a027fb"
   },
   "outputs": [
    {
     "name": "stdout",
     "output_type": "stream",
     "text": [
      "[[4935    6]\n",
      " [ 149   24]]\n",
      "======================================================\n",
      "\n",
      "              precision    recall  f1-score   support\n",
      "\n",
      "         0.0       0.97      1.00      0.98      4941\n",
      "         1.0       0.80      0.14      0.24       173\n",
      "\n",
      "    accuracy                           0.97      5114\n",
      "   macro avg       0.89      0.57      0.61      5114\n",
      "weighted avg       0.96      0.97      0.96      5114\n",
      "\n"
     ]
    }
   ],
   "source": [
    "#訓練\n",
    "knn_pred= knn.predict(X_train)\n",
    "from sklearn.metrics import classification_report,confusion_matrix\n",
    "print(confusion_matrix(y_train,knn_pred))\n",
    "print(\"======================================================\\n\")\n",
    "print(classification_report(y_train,knn_pred))"
   ]
  },
  {
   "cell_type": "code",
   "execution_count": null,
   "metadata": {
    "colab": {
     "base_uri": "https://localhost:8080/"
    },
    "executionInfo": {
     "elapsed": 301,
     "status": "ok",
     "timestamp": 1673350955701,
     "user": {
      "displayName": "張啟玥Selina",
      "userId": "14947581420412888356"
     },
     "user_tz": -480
    },
    "id": "41WzrTwWkd5M",
    "outputId": "6b30c215-71f8-44f2-c77a-d98416948547"
   },
   "outputs": [
    {
     "name": "stdout",
     "output_type": "stream",
     "text": [
      "[[1648   10]\n",
      " [  46    1]]\n",
      "======================================================\n",
      "\n",
      "              precision    recall  f1-score   support\n",
      "\n",
      "         0.0       0.97      0.99      0.98      1658\n",
      "         1.0       0.09      0.02      0.03        47\n",
      "\n",
      "    accuracy                           0.97      1705\n",
      "   macro avg       0.53      0.51      0.51      1705\n",
      "weighted avg       0.95      0.97      0.96      1705\n",
      "\n"
     ]
    }
   ],
   "source": [
    "#測試\n",
    "knn_pred= knn.predict(X_test)\n",
    "from sklearn.metrics import classification_report,confusion_matrix\n",
    "print(confusion_matrix(y_test,knn_pred))\n",
    "print(\"======================================================\\n\")\n",
    "print(classification_report(y_test,knn_pred))"
   ]
  },
  {
   "cell_type": "markdown",
   "metadata": {
    "id": "rs_oQE7Jcn-M"
   },
   "source": [
    "#向下取樣75:25"
   ]
  },
  {
   "cell_type": "code",
   "execution_count": 23,
   "metadata": {
    "executionInfo": {
     "elapsed": 12,
     "status": "ok",
     "timestamp": 1673406362152,
     "user": {
      "displayName": "張啟玥Selina",
      "userId": "14947581420412888356"
     },
     "user_tz": -480
    },
    "id": "-t1LVva3qQOK"
   },
   "outputs": [],
   "source": [
    "#給下面自變數X取除了Bankrupt?以外的欄位名稱，不然一個一個打會打到亂掉\n",
    "a25=data.copy()"
   ]
  },
  {
   "cell_type": "code",
   "execution_count": 24,
   "metadata": {
    "executionInfo": {
     "elapsed": 13,
     "status": "ok",
     "timestamp": 1673406362153,
     "user": {
      "displayName": "張啟玥Selina",
      "userId": "14947581420412888356"
     },
     "user_tz": -480
    },
    "id": "XM3Feyz5qQOL"
   },
   "outputs": [],
   "source": [
    "X=a25[a25.columns]\n",
    "y=data['Bankrupt?']\n",
    "X_train, X_test,y_train,y_test = train_test_split(X,y,test_size = 0.25 ,random_state=33)\n",
    "from imblearn.under_sampling import RandomUnderSampler\n",
    "rus = RandomUnderSampler(sampling_strategy=0.3)\n",
    "X_resampled, y_resampled = rus.fit_resample(X_train, y_train)"
   ]
  },
  {
   "cell_type": "code",
   "execution_count": 25,
   "metadata": {
    "executionInfo": {
     "elapsed": 1700,
     "status": "ok",
     "timestamp": 1673406363841,
     "user": {
      "displayName": "張啟玥Selina",
      "userId": "14947581420412888356"
     },
     "user_tz": -480
    },
    "id": "Fdj_5V8Aw6C3"
   },
   "outputs": [],
   "source": [
    "# X_resampled.to_excel(\"75比25向下取樣X_resampled.xlsx\")"
   ]
  },
  {
   "cell_type": "markdown",
   "metadata": {
    "id": "7wTy115PqQOL"
   },
   "source": [
    "決策樹"
   ]
  },
  {
   "cell_type": "code",
   "execution_count": null,
   "metadata": {
    "id": "5kCZbIGYqQOL"
   },
   "outputs": [],
   "source": [
    "from sklearn import tree\n",
    "DT = tree.DecisionTreeClassifier(max_depth=2)\n",
    "DT= DT.fit(X_resampled, y_resampled)"
   ]
  },
  {
   "cell_type": "code",
   "execution_count": null,
   "metadata": {
    "colab": {
     "base_uri": "https://localhost:8080/"
    },
    "executionInfo": {
     "elapsed": 44,
     "status": "ok",
     "timestamp": 1673350956148,
     "user": {
      "displayName": "張啟玥Selina",
      "userId": "14947581420412888356"
     },
     "user_tz": -480
    },
    "id": "nPtQiM4SqQOL",
    "outputId": "45a77a33-576d-4a1b-c1c9-e7960eeaa7a7"
   },
   "outputs": [
    {
     "name": "stdout",
     "output_type": "stream",
     "text": [
      "[[576   0]\n",
      " [  0 173]]\n",
      "======================================================\n",
      "\n",
      "              precision    recall  f1-score   support\n",
      "\n",
      "         0.0       1.00      1.00      1.00       576\n",
      "         1.0       1.00      1.00      1.00       173\n",
      "\n",
      "    accuracy                           1.00       749\n",
      "   macro avg       1.00      1.00      1.00       749\n",
      "weighted avg       1.00      1.00      1.00       749\n",
      "\n"
     ]
    }
   ],
   "source": [
    "#訓練\n",
    "DT_pred= DT.predict(X_resampled)\n",
    "from sklearn.metrics import classification_report,confusion_matrix\n",
    "print(confusion_matrix(y_resampled,DT_pred))\n",
    "print(\"======================================================\\n\")\n",
    "print(classification_report(y_resampled,DT_pred))"
   ]
  },
  {
   "cell_type": "code",
   "execution_count": null,
   "metadata": {
    "colab": {
     "base_uri": "https://localhost:8080/"
    },
    "executionInfo": {
     "elapsed": 36,
     "status": "ok",
     "timestamp": 1673350956153,
     "user": {
      "displayName": "張啟玥Selina",
      "userId": "14947581420412888356"
     },
     "user_tz": -480
    },
    "id": "K8DYA8bcqQOL",
    "outputId": "7ddee42c-3556-462e-c3cd-b6543cf8e691"
   },
   "outputs": [
    {
     "name": "stdout",
     "output_type": "stream",
     "text": [
      "[[1658    0]\n",
      " [   0   47]]\n",
      "======================================================\n",
      "\n",
      "              precision    recall  f1-score   support\n",
      "\n",
      "         0.0       1.00      1.00      1.00      1658\n",
      "         1.0       1.00      1.00      1.00        47\n",
      "\n",
      "    accuracy                           1.00      1705\n",
      "   macro avg       1.00      1.00      1.00      1705\n",
      "weighted avg       1.00      1.00      1.00      1705\n",
      "\n"
     ]
    }
   ],
   "source": [
    "#測試\n",
    "DT_pred= DT.predict(X_test)\n",
    "from sklearn.metrics import classification_report,confusion_matrix\n",
    "print(confusion_matrix(y_test,DT_pred))\n",
    "print(\"======================================================\\n\")\n",
    "print(classification_report(y_test,DT_pred))"
   ]
  },
  {
   "cell_type": "markdown",
   "metadata": {
    "id": "fZJUWmm8qQOM"
   },
   "source": [
    "隨機森林"
   ]
  },
  {
   "cell_type": "code",
   "execution_count": null,
   "metadata": {
    "colab": {
     "base_uri": "https://localhost:8080/"
    },
    "executionInfo": {
     "elapsed": 33,
     "status": "ok",
     "timestamp": 1673350956154,
     "user": {
      "displayName": "張啟玥Selina",
      "userId": "14947581420412888356"
     },
     "user_tz": -480
    },
    "id": "j6WeFXdiqQOM",
    "outputId": "6ceae44d-7116-4441-f438-0a89fceb3f6d"
   },
   "outputs": [
    {
     "data": {
      "text/plain": [
       "RandomForestClassifier(max_features='sqrt', n_estimators=25, oob_score=True)"
      ]
     },
     "execution_count": 200,
     "metadata": {},
     "output_type": "execute_result"
    }
   ],
   "source": [
    "from sklearn.ensemble import RandomForestClassifier\n",
    "RF = RandomForestClassifier(n_estimators=25,max_features=\"sqrt\",oob_score=True)\n",
    "RF.fit(X_resampled.values,y_resampled.values)"
   ]
  },
  {
   "cell_type": "code",
   "execution_count": null,
   "metadata": {
    "colab": {
     "base_uri": "https://localhost:8080/"
    },
    "executionInfo": {
     "elapsed": 28,
     "status": "ok",
     "timestamp": 1673350956154,
     "user": {
      "displayName": "張啟玥Selina",
      "userId": "14947581420412888356"
     },
     "user_tz": -480
    },
    "id": "Rd35xptrqQOM",
    "outputId": "47cd897b-2fef-4aea-c16c-51f3c9109a98"
   },
   "outputs": [
    {
     "name": "stdout",
     "output_type": "stream",
     "text": [
      "[[576   0]\n",
      " [  0 173]]\n",
      "======================================================\n",
      "\n",
      "              precision    recall  f1-score   support\n",
      "\n",
      "         0.0       1.00      1.00      1.00       576\n",
      "         1.0       1.00      1.00      1.00       173\n",
      "\n",
      "    accuracy                           1.00       749\n",
      "   macro avg       1.00      1.00      1.00       749\n",
      "weighted avg       1.00      1.00      1.00       749\n",
      "\n"
     ]
    },
    {
     "name": "stderr",
     "output_type": "stream",
     "text": [
      "/usr/local/lib/python3.8/dist-packages/sklearn/base.py:443: UserWarning: X has feature names, but RandomForestClassifier was fitted without feature names\n",
      "  warnings.warn(\n"
     ]
    }
   ],
   "source": [
    "#訓練\n",
    "RF_pred= RF.predict(X_resampled)\n",
    "from sklearn.metrics import classification_report,confusion_matrix\n",
    "print(confusion_matrix(y_resampled,RF_pred))\n",
    "print(\"======================================================\\n\")\n",
    "print(classification_report(y_resampled,RF_pred))"
   ]
  },
  {
   "cell_type": "code",
   "execution_count": null,
   "metadata": {
    "colab": {
     "base_uri": "https://localhost:8080/"
    },
    "executionInfo": {
     "elapsed": 23,
     "status": "ok",
     "timestamp": 1673350956155,
     "user": {
      "displayName": "張啟玥Selina",
      "userId": "14947581420412888356"
     },
     "user_tz": -480
    },
    "id": "Qr4Eds8bqQOM",
    "outputId": "77506695-038b-4f6f-e1e3-6abefda9f530"
   },
   "outputs": [
    {
     "name": "stdout",
     "output_type": "stream",
     "text": [
      "[[1656    2]\n",
      " [   0   47]]\n",
      "======================================================\n",
      "\n",
      "              precision    recall  f1-score   support\n",
      "\n",
      "         0.0       1.00      1.00      1.00      1658\n",
      "         1.0       0.96      1.00      0.98        47\n",
      "\n",
      "    accuracy                           1.00      1705\n",
      "   macro avg       0.98      1.00      0.99      1705\n",
      "weighted avg       1.00      1.00      1.00      1705\n",
      "\n"
     ]
    },
    {
     "name": "stderr",
     "output_type": "stream",
     "text": [
      "/usr/local/lib/python3.8/dist-packages/sklearn/base.py:443: UserWarning: X has feature names, but RandomForestClassifier was fitted without feature names\n",
      "  warnings.warn(\n"
     ]
    }
   ],
   "source": [
    "#測試\n",
    "RF_pred= RF.predict(X_test)\n",
    "from sklearn.metrics import classification_report,confusion_matrix\n",
    "print(confusion_matrix(y_test,RF_pred))\n",
    "print(\"======================================================\\n\")\n",
    "print(classification_report(y_test,RF_pred))"
   ]
  },
  {
   "cell_type": "markdown",
   "metadata": {
    "id": "J5U5BV9BqQOM"
   },
   "source": [
    "羅吉斯回歸"
   ]
  },
  {
   "cell_type": "code",
   "execution_count": null,
   "metadata": {
    "id": "-TIDdrbcqQOM"
   },
   "outputs": [],
   "source": [
    "from sklearn.linear_model import LogisticRegression\n",
    "LR = LogisticRegression(solver='newton-cg')\n",
    "LR.fit(X_resampled, y_resampled)"
   ]
  },
  {
   "cell_type": "code",
   "execution_count": null,
   "metadata": {
    "colab": {
     "base_uri": "https://localhost:8080/"
    },
    "executionInfo": {
     "elapsed": 13,
     "status": "ok",
     "timestamp": 1673351273473,
     "user": {
      "displayName": "張啟玥Selina",
      "userId": "14947581420412888356"
     },
     "user_tz": -480
    },
    "id": "8A7lvszuqQOM",
    "outputId": "02fe7758-eea1-4f0c-d7aa-c3cc3835fd5a"
   },
   "outputs": [
    {
     "name": "stdout",
     "output_type": "stream",
     "text": [
      "[[551  25]\n",
      " [145  28]]\n",
      "======================================================\n",
      "\n",
      "              precision    recall  f1-score   support\n",
      "\n",
      "         0.0       0.79      0.96      0.87       576\n",
      "         1.0       0.53      0.16      0.25       173\n",
      "\n",
      "    accuracy                           0.77       749\n",
      "   macro avg       0.66      0.56      0.56       749\n",
      "weighted avg       0.73      0.77      0.72       749\n",
      "\n"
     ]
    }
   ],
   "source": [
    "#訓練\n",
    "from sklearn.metrics import classification_report,confusion_matrix\n",
    "LR_pred= LR.predict(X_resampled)\n",
    "print(confusion_matrix(y_resampled,LR_pred))\n",
    "print(\"======================================================\\n\")\n",
    "print(classification_report(y_resampled,LR_pred))"
   ]
  },
  {
   "cell_type": "code",
   "execution_count": null,
   "metadata": {
    "colab": {
     "base_uri": "https://localhost:8080/"
    },
    "executionInfo": {
     "elapsed": 9,
     "status": "ok",
     "timestamp": 1673351273473,
     "user": {
      "displayName": "張啟玥Selina",
      "userId": "14947581420412888356"
     },
     "user_tz": -480
    },
    "id": "lS71hS2lNXWD",
    "outputId": "05e3908c-f283-4871-95d1-9fbd71abfae5"
   },
   "outputs": [
    {
     "name": "stdout",
     "output_type": "stream",
     "text": [
      "[[1591   67]\n",
      " [  42    5]]\n",
      "======================================================\n",
      "\n",
      "              precision    recall  f1-score   support\n",
      "\n",
      "         0.0       0.97      0.96      0.97      1658\n",
      "         1.0       0.07      0.11      0.08        47\n",
      "\n",
      "    accuracy                           0.94      1705\n",
      "   macro avg       0.52      0.53      0.53      1705\n",
      "weighted avg       0.95      0.94      0.94      1705\n",
      "\n"
     ]
    }
   ],
   "source": [
    "#測試 \n",
    "from sklearn.metrics import classification_report,confusion_matrix\n",
    "LR_pred= LR.predict(X_test)\n",
    "print(confusion_matrix(y_test,LR_pred))\n",
    "print(\"======================================================\\n\")\n",
    "print(classification_report(y_test,LR_pred))"
   ]
  },
  {
   "cell_type": "markdown",
   "metadata": {
    "id": "fJWw0MjUqQON"
   },
   "source": [
    "KNN"
   ]
  },
  {
   "cell_type": "code",
   "execution_count": null,
   "metadata": {
    "colab": {
     "base_uri": "https://localhost:8080/"
    },
    "executionInfo": {
     "elapsed": 10,
     "status": "ok",
     "timestamp": 1673350956473,
     "user": {
      "displayName": "張啟玥Selina",
      "userId": "14947581420412888356"
     },
     "user_tz": -480
    },
    "id": "c38Ie776qQON",
    "outputId": "377b730c-a2da-4b3b-afde-759d375f2bb8"
   },
   "outputs": [
    {
     "data": {
      "text/plain": [
       "KNeighborsClassifier(n_neighbors=3)"
      ]
     },
     "execution_count": 206,
     "metadata": {},
     "output_type": "execute_result"
    }
   ],
   "source": [
    "from sklearn.neighbors import KNeighborsClassifier\n",
    "knn = KNeighborsClassifier(n_neighbors=3) \n",
    "knn.fit(X_resampled, y_resampled)"
   ]
  },
  {
   "cell_type": "code",
   "execution_count": null,
   "metadata": {
    "colab": {
     "base_uri": "https://localhost:8080/"
    },
    "executionInfo": {
     "elapsed": 7,
     "status": "ok",
     "timestamp": 1673350956473,
     "user": {
      "displayName": "張啟玥Selina",
      "userId": "14947581420412888356"
     },
     "user_tz": -480
    },
    "id": "SyfEtmXgqQON",
    "outputId": "f8bb2f8b-a912-4c3b-9c92-452c272932ea"
   },
   "outputs": [
    {
     "name": "stdout",
     "output_type": "stream",
     "text": [
      "[[559  17]\n",
      " [ 77  96]]\n",
      "======================================================\n",
      "\n",
      "              precision    recall  f1-score   support\n",
      "\n",
      "         0.0       0.88      0.97      0.92       576\n",
      "         1.0       0.85      0.55      0.67       173\n",
      "\n",
      "    accuracy                           0.87       749\n",
      "   macro avg       0.86      0.76      0.80       749\n",
      "weighted avg       0.87      0.87      0.86       749\n",
      "\n"
     ]
    }
   ],
   "source": [
    "#訓練\n",
    "knn_pred= knn.predict(X_resampled)\n",
    "from sklearn.metrics import classification_report,confusion_matrix\n",
    "print(confusion_matrix(y_resampled,knn_pred))\n",
    "print(\"======================================================\\n\")\n",
    "print(classification_report(y_resampled,knn_pred))"
   ]
  },
  {
   "cell_type": "code",
   "execution_count": null,
   "metadata": {
    "colab": {
     "base_uri": "https://localhost:8080/"
    },
    "executionInfo": {
     "elapsed": 352,
     "status": "ok",
     "timestamp": 1673350956821,
     "user": {
      "displayName": "張啟玥Selina",
      "userId": "14947581420412888356"
     },
     "user_tz": -480
    },
    "id": "CRFdHSYtqQOP",
    "outputId": "4326a727-804b-46d4-f87c-2fd5369fb0c9"
   },
   "outputs": [
    {
     "name": "stdout",
     "output_type": "stream",
     "text": [
      "[[1470  188]\n",
      " [  37   10]]\n",
      "======================================================\n",
      "\n",
      "              precision    recall  f1-score   support\n",
      "\n",
      "         0.0       0.98      0.89      0.93      1658\n",
      "         1.0       0.05      0.21      0.08        47\n",
      "\n",
      "    accuracy                           0.87      1705\n",
      "   macro avg       0.51      0.55      0.51      1705\n",
      "weighted avg       0.95      0.87      0.91      1705\n",
      "\n"
     ]
    }
   ],
   "source": [
    "#測試\n",
    "knn_pred= knn.predict(X_test)\n",
    "from sklearn.metrics import classification_report,confusion_matrix\n",
    "print(confusion_matrix(y_test,knn_pred))\n",
    "print(\"======================================================\\n\")\n",
    "print(classification_report(y_test,knn_pred))"
   ]
  },
  {
   "cell_type": "markdown",
   "metadata": {
    "id": "XovPfUsPbExk"
   },
   "source": [
    "#原始資料90:10"
   ]
  },
  {
   "cell_type": "code",
   "execution_count": null,
   "metadata": {
    "id": "nRvfuwpVlGIU"
   },
   "outputs": [],
   "source": [
    "#給下面自變數X取除了Bankrupt?以外的欄位名稱，不然一個一個打會打到亂掉\n",
    "a10=data.copy()\n",
    "a10=a10.drop('Bankrupt?',axis=1)"
   ]
  },
  {
   "cell_type": "code",
   "execution_count": null,
   "metadata": {
    "id": "OtWiYpSSbExl"
   },
   "outputs": [],
   "source": [
    "X=a10[a10.columns]\n",
    "y=data['Bankrupt?']\n",
    "X_train, X_test,y_train,y_test = train_test_split(X,y,test_size = 0.10 ,random_state=33)"
   ]
  },
  {
   "cell_type": "markdown",
   "metadata": {
    "id": "wI0bHHyLbExl"
   },
   "source": [
    "決策樹"
   ]
  },
  {
   "cell_type": "code",
   "execution_count": null,
   "metadata": {
    "id": "9xoj4z9FbExl"
   },
   "outputs": [],
   "source": [
    "from sklearn import tree\n",
    "DT = tree.DecisionTreeClassifier(max_depth=2)\n",
    "DT= DT.fit(X_train, y_train)"
   ]
  },
  {
   "cell_type": "code",
   "execution_count": null,
   "metadata": {
    "colab": {
     "base_uri": "https://localhost:8080/"
    },
    "executionInfo": {
     "elapsed": 449,
     "status": "ok",
     "timestamp": 1673350957265,
     "user": {
      "displayName": "張啟玥Selina",
      "userId": "14947581420412888356"
     },
     "user_tz": -480
    },
    "id": "-ixdKs1HbExl",
    "outputId": "1b52a8f9-24f9-42e8-8a2f-53fec10a43af"
   },
   "outputs": [
    {
     "name": "stdout",
     "output_type": "stream",
     "text": [
      "[[5923   14]\n",
      " [ 171   29]]\n",
      "======================================================\n",
      "\n",
      "              precision    recall  f1-score   support\n",
      "\n",
      "         0.0       0.97      1.00      0.98      5937\n",
      "         1.0       0.67      0.14      0.24       200\n",
      "\n",
      "    accuracy                           0.97      6137\n",
      "   macro avg       0.82      0.57      0.61      6137\n",
      "weighted avg       0.96      0.97      0.96      6137\n",
      "\n"
     ]
    }
   ],
   "source": [
    "#訓練\n",
    "DT_pred= DT.predict(X_train)\n",
    "from sklearn.metrics import classification_report,confusion_matrix\n",
    "print(confusion_matrix(y_train,DT_pred))\n",
    "print(\"======================================================\\n\")\n",
    "print(classification_report(y_train,DT_pred))"
   ]
  },
  {
   "cell_type": "code",
   "execution_count": null,
   "metadata": {
    "colab": {
     "base_uri": "https://localhost:8080/"
    },
    "executionInfo": {
     "elapsed": 7,
     "status": "ok",
     "timestamp": 1673350957265,
     "user": {
      "displayName": "張啟玥Selina",
      "userId": "14947581420412888356"
     },
     "user_tz": -480
    },
    "id": "VRantnREbExl",
    "outputId": "2e39624b-0404-402f-e2f0-24c0e189a769"
   },
   "outputs": [
    {
     "name": "stdout",
     "output_type": "stream",
     "text": [
      "[[659   3]\n",
      " [ 17   3]]\n",
      "======================================================\n",
      "\n",
      "              precision    recall  f1-score   support\n",
      "\n",
      "         0.0       0.97      1.00      0.99       662\n",
      "         1.0       0.50      0.15      0.23        20\n",
      "\n",
      "    accuracy                           0.97       682\n",
      "   macro avg       0.74      0.57      0.61       682\n",
      "weighted avg       0.96      0.97      0.96       682\n",
      "\n"
     ]
    }
   ],
   "source": [
    "#測試\n",
    "DT_pred= DT.predict(X_test)\n",
    "from sklearn.metrics import classification_report,confusion_matrix\n",
    "print(confusion_matrix(y_test,DT_pred))\n",
    "print(\"======================================================\\n\")\n",
    "print(classification_report(y_test,DT_pred))"
   ]
  },
  {
   "cell_type": "markdown",
   "metadata": {
    "id": "J4c6tn_JbExm"
   },
   "source": [
    "隨機森林"
   ]
  },
  {
   "cell_type": "code",
   "execution_count": null,
   "metadata": {
    "colab": {
     "base_uri": "https://localhost:8080/"
    },
    "executionInfo": {
     "elapsed": 1000,
     "status": "ok",
     "timestamp": 1673350958263,
     "user": {
      "displayName": "張啟玥Selina",
      "userId": "14947581420412888356"
     },
     "user_tz": -480
    },
    "id": "g50mP_B1bExm",
    "outputId": "70503704-0327-4627-acab-b318fd23b085"
   },
   "outputs": [
    {
     "data": {
      "text/plain": [
       "RandomForestClassifier(max_features='sqrt', n_estimators=25, oob_score=True)"
      ]
     },
     "execution_count": 214,
     "metadata": {},
     "output_type": "execute_result"
    }
   ],
   "source": [
    "from sklearn.ensemble import RandomForestClassifier\n",
    "RF = RandomForestClassifier(n_estimators=25,max_features=\"sqrt\",oob_score=True)\n",
    "RF.fit(X_train.values,y_train.values)"
   ]
  },
  {
   "cell_type": "code",
   "execution_count": null,
   "metadata": {
    "colab": {
     "base_uri": "https://localhost:8080/"
    },
    "executionInfo": {
     "elapsed": 12,
     "status": "ok",
     "timestamp": 1673350958264,
     "user": {
      "displayName": "張啟玥Selina",
      "userId": "14947581420412888356"
     },
     "user_tz": -480
    },
    "id": "X2XtHuEjbExm",
    "outputId": "7225a1dc-7a4b-4efa-da23-55b0eabe1a5d"
   },
   "outputs": [
    {
     "name": "stdout",
     "output_type": "stream",
     "text": [
      "[[5937    0]\n",
      " [   5  195]]\n",
      "======================================================\n",
      "\n",
      "              precision    recall  f1-score   support\n",
      "\n",
      "         0.0       1.00      1.00      1.00      5937\n",
      "         1.0       1.00      0.97      0.99       200\n",
      "\n",
      "    accuracy                           1.00      6137\n",
      "   macro avg       1.00      0.99      0.99      6137\n",
      "weighted avg       1.00      1.00      1.00      6137\n",
      "\n"
     ]
    },
    {
     "name": "stderr",
     "output_type": "stream",
     "text": [
      "/usr/local/lib/python3.8/dist-packages/sklearn/base.py:443: UserWarning: X has feature names, but RandomForestClassifier was fitted without feature names\n",
      "  warnings.warn(\n"
     ]
    }
   ],
   "source": [
    "#訓練\n",
    "RF_pred= RF.predict(X_train)\n",
    "from sklearn.metrics import classification_report,confusion_matrix\n",
    "print(confusion_matrix(y_train,RF_pred))\n",
    "print(\"======================================================\\n\")\n",
    "print(classification_report(y_train,RF_pred))"
   ]
  },
  {
   "cell_type": "code",
   "execution_count": null,
   "metadata": {
    "colab": {
     "base_uri": "https://localhost:8080/"
    },
    "executionInfo": {
     "elapsed": 9,
     "status": "ok",
     "timestamp": 1673350958264,
     "user": {
      "displayName": "張啟玥Selina",
      "userId": "14947581420412888356"
     },
     "user_tz": -480
    },
    "id": "5tUkrykabExm",
    "outputId": "d7029912-a5b3-4257-eef6-34a38b2da36d"
   },
   "outputs": [
    {
     "name": "stdout",
     "output_type": "stream",
     "text": [
      "[[661   1]\n",
      " [ 19   1]]\n",
      "======================================================\n",
      "\n",
      "              precision    recall  f1-score   support\n",
      "\n",
      "         0.0       0.97      1.00      0.99       662\n",
      "         1.0       0.50      0.05      0.09        20\n",
      "\n",
      "    accuracy                           0.97       682\n",
      "   macro avg       0.74      0.52      0.54       682\n",
      "weighted avg       0.96      0.97      0.96       682\n",
      "\n"
     ]
    },
    {
     "name": "stderr",
     "output_type": "stream",
     "text": [
      "/usr/local/lib/python3.8/dist-packages/sklearn/base.py:443: UserWarning: X has feature names, but RandomForestClassifier was fitted without feature names\n",
      "  warnings.warn(\n"
     ]
    }
   ],
   "source": [
    "#測試\n",
    "RF_pred= RF.predict(X_test)\n",
    "from sklearn.metrics import classification_report,confusion_matrix\n",
    "print(confusion_matrix(y_test,RF_pred))\n",
    "print(\"======================================================\\n\")\n",
    "print(classification_report(y_test,RF_pred))"
   ]
  },
  {
   "cell_type": "markdown",
   "metadata": {
    "id": "hB7djGGlbExm"
   },
   "source": [
    "羅吉斯回歸"
   ]
  },
  {
   "cell_type": "code",
   "execution_count": null,
   "metadata": {
    "id": "y5YEI38KbExm"
   },
   "outputs": [],
   "source": [
    "from sklearn.linear_model import LogisticRegression\n",
    "LR = LogisticRegression(solver='newton-cg')\n",
    "LR.fit(X_train, y_train)"
   ]
  },
  {
   "cell_type": "code",
   "execution_count": null,
   "metadata": {
    "colab": {
     "base_uri": "https://localhost:8080/"
    },
    "executionInfo": {
     "elapsed": 14,
     "status": "ok",
     "timestamp": 1673350961517,
     "user": {
      "displayName": "張啟玥Selina",
      "userId": "14947581420412888356"
     },
     "user_tz": -480
    },
    "id": "_5Qg_6ZvbExm",
    "outputId": "008012fb-ece5-4cb5-e20c-039b049092bd"
   },
   "outputs": [
    {
     "name": "stdout",
     "output_type": "stream",
     "text": [
      "[[5921   16]\n",
      " [ 195    5]]\n",
      "======================================================\n",
      "\n",
      "              precision    recall  f1-score   support\n",
      "\n",
      "         0.0       0.97      1.00      0.98      5937\n",
      "         1.0       0.24      0.03      0.05       200\n",
      "\n",
      "    accuracy                           0.97      6137\n",
      "   macro avg       0.60      0.51      0.51      6137\n",
      "weighted avg       0.94      0.97      0.95      6137\n",
      "\n"
     ]
    }
   ],
   "source": [
    "#訓練\n",
    "from sklearn.metrics import classification_report,confusion_matrix\n",
    "LR_pred= LR.predict(X_train)\n",
    "print(confusion_matrix(y_train,LR_pred))\n",
    "print(\"======================================================\\n\")\n",
    "print(classification_report(y_train,LR_pred))"
   ]
  },
  {
   "cell_type": "code",
   "execution_count": null,
   "metadata": {
    "colab": {
     "base_uri": "https://localhost:8080/"
    },
    "executionInfo": {
     "elapsed": 8,
     "status": "ok",
     "timestamp": 1673350961517,
     "user": {
      "displayName": "張啟玥Selina",
      "userId": "14947581420412888356"
     },
     "user_tz": -480
    },
    "id": "e2sSqjKBbExm",
    "outputId": "b052808f-71ee-4255-c781-19fb14dc083f"
   },
   "outputs": [
    {
     "name": "stdout",
     "output_type": "stream",
     "text": [
      "[[658   4]\n",
      " [ 20   0]]\n",
      "======================================================\n",
      "\n",
      "              precision    recall  f1-score   support\n",
      "\n",
      "         0.0       0.97      0.99      0.98       662\n",
      "         1.0       0.00      0.00      0.00        20\n",
      "\n",
      "    accuracy                           0.96       682\n",
      "   macro avg       0.49      0.50      0.49       682\n",
      "weighted avg       0.94      0.96      0.95       682\n",
      "\n"
     ]
    }
   ],
   "source": [
    "#測試\n",
    "from sklearn.metrics import classification_report,confusion_matrix\n",
    "LR_pred= LR.predict(X_test)\n",
    "print(confusion_matrix(y_test,LR_pred))\n",
    "print(\"======================================================\\n\")\n",
    "print(classification_report(y_test,LR_pred))"
   ]
  },
  {
   "cell_type": "markdown",
   "metadata": {
    "id": "XQyGQQIXbExm"
   },
   "source": [
    "KNN"
   ]
  },
  {
   "cell_type": "code",
   "execution_count": null,
   "metadata": {
    "colab": {
     "base_uri": "https://localhost:8080/"
    },
    "executionInfo": {
     "elapsed": 6,
     "status": "ok",
     "timestamp": 1673350961518,
     "user": {
      "displayName": "張啟玥Selina",
      "userId": "14947581420412888356"
     },
     "user_tz": -480
    },
    "id": "LIztV0oFbExo",
    "outputId": "e5d72ad6-bda5-4855-d35f-d44690023f4d"
   },
   "outputs": [
    {
     "data": {
      "text/plain": [
       "KNeighborsClassifier(n_neighbors=3)"
      ]
     },
     "execution_count": 220,
     "metadata": {},
     "output_type": "execute_result"
    }
   ],
   "source": [
    "from sklearn.neighbors import KNeighborsClassifier\n",
    "knn = KNeighborsClassifier(n_neighbors=3) \n",
    "knn.fit(X_train, y_train)"
   ]
  },
  {
   "cell_type": "code",
   "execution_count": null,
   "metadata": {
    "colab": {
     "base_uri": "https://localhost:8080/"
    },
    "executionInfo": {
     "elapsed": 946,
     "status": "ok",
     "timestamp": 1673350962460,
     "user": {
      "displayName": "張啟玥Selina",
      "userId": "14947581420412888356"
     },
     "user_tz": -480
    },
    "id": "YHbWcvStbExo",
    "outputId": "962937f3-3cbb-462a-d912-fa5c5f544aae"
   },
   "outputs": [
    {
     "name": "stdout",
     "output_type": "stream",
     "text": [
      "[[5932    5]\n",
      " [ 168   32]]\n",
      "======================================================\n",
      "\n",
      "              precision    recall  f1-score   support\n",
      "\n",
      "         0.0       0.97      1.00      0.99      5937\n",
      "         1.0       0.86      0.16      0.27       200\n",
      "\n",
      "    accuracy                           0.97      6137\n",
      "   macro avg       0.92      0.58      0.63      6137\n",
      "weighted avg       0.97      0.97      0.96      6137\n",
      "\n"
     ]
    }
   ],
   "source": [
    "#訓練\n",
    "knn_pred= knn.predict(X_train)\n",
    "from sklearn.metrics import classification_report,confusion_matrix\n",
    "print(confusion_matrix(y_train,knn_pred))\n",
    "print(\"======================================================\\n\")\n",
    "print(classification_report(y_train,knn_pred))"
   ]
  },
  {
   "cell_type": "code",
   "execution_count": null,
   "metadata": {
    "colab": {
     "base_uri": "https://localhost:8080/"
    },
    "executionInfo": {
     "elapsed": 361,
     "status": "ok",
     "timestamp": 1673350962819,
     "user": {
      "displayName": "張啟玥Selina",
      "userId": "14947581420412888356"
     },
     "user_tz": -480
    },
    "id": "tNnISK23bExo",
    "outputId": "62e553ed-adf1-4bbb-b544-cec95b3640a2"
   },
   "outputs": [
    {
     "name": "stdout",
     "output_type": "stream",
     "text": [
      "[[659   3]\n",
      " [ 20   0]]\n",
      "======================================================\n",
      "\n",
      "              precision    recall  f1-score   support\n",
      "\n",
      "         0.0       0.97      1.00      0.98       662\n",
      "         1.0       0.00      0.00      0.00        20\n",
      "\n",
      "    accuracy                           0.97       682\n",
      "   macro avg       0.49      0.50      0.49       682\n",
      "weighted avg       0.94      0.97      0.95       682\n",
      "\n"
     ]
    }
   ],
   "source": [
    "#測試\n",
    "knn_pred= knn.predict(X_test)\n",
    "from sklearn.metrics import classification_report,confusion_matrix\n",
    "print(confusion_matrix(y_test,knn_pred))\n",
    "print(\"======================================================\\n\")\n",
    "print(classification_report(y_test,knn_pred))"
   ]
  },
  {
   "cell_type": "markdown",
   "metadata": {
    "id": "8--1Y5tdcHWp"
   },
   "source": [
    "#向下取樣90:10"
   ]
  },
  {
   "cell_type": "code",
   "execution_count": 26,
   "metadata": {
    "executionInfo": {
     "elapsed": 258,
     "status": "ok",
     "timestamp": 1673406379760,
     "user": {
      "displayName": "張啟玥Selina",
      "userId": "14947581420412888356"
     },
     "user_tz": -480
    },
    "id": "wHL0OjeJqg85"
   },
   "outputs": [],
   "source": [
    "#給下面自變數X取除了Bankrupt?以外的欄位名稱，不然一個一個打會打到亂掉\n",
    "a10=data.copy()"
   ]
  },
  {
   "cell_type": "code",
   "execution_count": 27,
   "metadata": {
    "executionInfo": {
     "elapsed": 2,
     "status": "ok",
     "timestamp": 1673406381503,
     "user": {
      "displayName": "張啟玥Selina",
      "userId": "14947581420412888356"
     },
     "user_tz": -480
    },
    "id": "OHIPbUBnqg85"
   },
   "outputs": [],
   "source": [
    "X=a10[a10.columns]\n",
    "y=data['Bankrupt?']\n",
    "X_train, X_test,y_train,y_test = train_test_split(X,y,test_size = 0.10 ,random_state=33)\n",
    "from imblearn.under_sampling import RandomUnderSampler\n",
    "rus = RandomUnderSampler(sampling_strategy=0.3)\n",
    "X_resampled, y_resampled = rus.fit_resample(X_train, y_train)"
   ]
  },
  {
   "cell_type": "code",
   "execution_count": 28,
   "metadata": {
    "executionInfo": {
     "elapsed": 1825,
     "status": "ok",
     "timestamp": 1673406384642,
     "user": {
      "displayName": "張啟玥Selina",
      "userId": "14947581420412888356"
     },
     "user_tz": -480
    },
    "id": "akkb_oKQxmsG"
   },
   "outputs": [],
   "source": [
    "# X_resampled.to_excel(\"90比10向下取樣X_resampled.xlsx\")"
   ]
  },
  {
   "cell_type": "markdown",
   "metadata": {
    "id": "ig_DnxVQqg85"
   },
   "source": [
    "決策樹"
   ]
  },
  {
   "cell_type": "code",
   "execution_count": null,
   "metadata": {
    "id": "lnUKYREGqg85"
   },
   "outputs": [],
   "source": [
    "from sklearn import tree\n",
    "DT = tree.DecisionTreeClassifier(max_depth=2)\n",
    "DT= DT.fit(X_resampled, y_resampled)"
   ]
  },
  {
   "cell_type": "code",
   "execution_count": null,
   "metadata": {
    "colab": {
     "base_uri": "https://localhost:8080/"
    },
    "executionInfo": {
     "elapsed": 13,
     "status": "ok",
     "timestamp": 1673350962820,
     "user": {
      "displayName": "張啟玥Selina",
      "userId": "14947581420412888356"
     },
     "user_tz": -480
    },
    "id": "PhGjpqJ4qg85",
    "outputId": "9d2b5305-f2ff-4a70-b89d-deb4e0eed207"
   },
   "outputs": [
    {
     "name": "stdout",
     "output_type": "stream",
     "text": [
      "[[666   0]\n",
      " [  0 200]]\n",
      "======================================================\n",
      "\n",
      "              precision    recall  f1-score   support\n",
      "\n",
      "         0.0       1.00      1.00      1.00       666\n",
      "         1.0       1.00      1.00      1.00       200\n",
      "\n",
      "    accuracy                           1.00       866\n",
      "   macro avg       1.00      1.00      1.00       866\n",
      "weighted avg       1.00      1.00      1.00       866\n",
      "\n"
     ]
    }
   ],
   "source": [
    "#訓練\n",
    "DT_pred= DT.predict(X_resampled)\n",
    "from sklearn.metrics import classification_report,confusion_matrix\n",
    "print(confusion_matrix(y_resampled,DT_pred))\n",
    "print(\"======================================================\\n\")\n",
    "print(classification_report(y_resampled,DT_pred))"
   ]
  },
  {
   "cell_type": "code",
   "execution_count": null,
   "metadata": {
    "colab": {
     "base_uri": "https://localhost:8080/"
    },
    "executionInfo": {
     "elapsed": 478,
     "status": "ok",
     "timestamp": 1673350963293,
     "user": {
      "displayName": "張啟玥Selina",
      "userId": "14947581420412888356"
     },
     "user_tz": -480
    },
    "id": "vq0cGDqFqg86",
    "outputId": "5a59703d-05e5-4413-ce87-616931828491"
   },
   "outputs": [
    {
     "name": "stdout",
     "output_type": "stream",
     "text": [
      "[[662   0]\n",
      " [  0  20]]\n",
      "======================================================\n",
      "\n",
      "              precision    recall  f1-score   support\n",
      "\n",
      "         0.0       1.00      1.00      1.00       662\n",
      "         1.0       1.00      1.00      1.00        20\n",
      "\n",
      "    accuracy                           1.00       682\n",
      "   macro avg       1.00      1.00      1.00       682\n",
      "weighted avg       1.00      1.00      1.00       682\n",
      "\n"
     ]
    }
   ],
   "source": [
    "#測試\n",
    "DT_pred= DT.predict(X_test)\n",
    "from sklearn.metrics import classification_report,confusion_matrix\n",
    "print(confusion_matrix(y_test,DT_pred))\n",
    "print(\"======================================================\\n\")\n",
    "print(classification_report(y_test,DT_pred))"
   ]
  },
  {
   "cell_type": "markdown",
   "metadata": {
    "id": "Vb86ar0dqg86"
   },
   "source": [
    "隨機森林"
   ]
  },
  {
   "cell_type": "code",
   "execution_count": null,
   "metadata": {
    "colab": {
     "base_uri": "https://localhost:8080/"
    },
    "executionInfo": {
     "elapsed": 379,
     "status": "ok",
     "timestamp": 1673351106839,
     "user": {
      "displayName": "張啟玥Selina",
      "userId": "14947581420412888356"
     },
     "user_tz": -480
    },
    "id": "PctOoF0oqg86",
    "outputId": "6132ad68-9124-47f0-fe6a-e9445d46809d"
   },
   "outputs": [
    {
     "data": {
      "text/plain": [
       "RandomForestClassifier(max_features='sqrt', n_estimators=25, oob_score=True)"
      ]
     },
     "execution_count": 247,
     "metadata": {},
     "output_type": "execute_result"
    }
   ],
   "source": [
    "from sklearn.ensemble import RandomForestClassifier\n",
    "RF = RandomForestClassifier(n_estimators=25,max_features=\"sqrt\",oob_score=True)\n",
    "RF.fit(X_resampled.values,y_resampled.values)"
   ]
  },
  {
   "cell_type": "code",
   "execution_count": null,
   "metadata": {
    "colab": {
     "base_uri": "https://localhost:8080/"
    },
    "executionInfo": {
     "elapsed": 12,
     "status": "ok",
     "timestamp": 1673351106840,
     "user": {
      "displayName": "張啟玥Selina",
      "userId": "14947581420412888356"
     },
     "user_tz": -480
    },
    "id": "Fzt1vAgKqg86",
    "outputId": "a39a0e3d-5f4c-4795-ca4f-bf436c0d3da3"
   },
   "outputs": [
    {
     "name": "stdout",
     "output_type": "stream",
     "text": [
      "[[666   0]\n",
      " [  0 200]]\n",
      "======================================================\n",
      "\n",
      "              precision    recall  f1-score   support\n",
      "\n",
      "         0.0       1.00      1.00      1.00       666\n",
      "         1.0       1.00      1.00      1.00       200\n",
      "\n",
      "    accuracy                           1.00       866\n",
      "   macro avg       1.00      1.00      1.00       866\n",
      "weighted avg       1.00      1.00      1.00       866\n",
      "\n"
     ]
    },
    {
     "name": "stderr",
     "output_type": "stream",
     "text": [
      "/usr/local/lib/python3.8/dist-packages/sklearn/base.py:443: UserWarning: X has feature names, but RandomForestClassifier was fitted without feature names\n",
      "  warnings.warn(\n"
     ]
    }
   ],
   "source": [
    "#訓練\n",
    "RF_pred= RF.predict(X_resampled)\n",
    "from sklearn.metrics import classification_report,confusion_matrix\n",
    "print(confusion_matrix(y_resampled,RF_pred))\n",
    "print(\"======================================================\\n\")\n",
    "print(classification_report(y_resampled,RF_pred))"
   ]
  },
  {
   "cell_type": "code",
   "execution_count": null,
   "metadata": {
    "colab": {
     "base_uri": "https://localhost:8080/"
    },
    "executionInfo": {
     "elapsed": 8,
     "status": "ok",
     "timestamp": 1673351106840,
     "user": {
      "displayName": "張啟玥Selina",
      "userId": "14947581420412888356"
     },
     "user_tz": -480
    },
    "id": "-V5TFzFQqg86",
    "outputId": "e7952f4b-3eaa-4668-d3fd-6d0430377201"
   },
   "outputs": [
    {
     "name": "stdout",
     "output_type": "stream",
     "text": [
      "[[661   1]\n",
      " [  2  18]]\n",
      "======================================================\n",
      "\n",
      "              precision    recall  f1-score   support\n",
      "\n",
      "         0.0       1.00      1.00      1.00       662\n",
      "         1.0       0.95      0.90      0.92        20\n",
      "\n",
      "    accuracy                           1.00       682\n",
      "   macro avg       0.97      0.95      0.96       682\n",
      "weighted avg       1.00      1.00      1.00       682\n",
      "\n"
     ]
    },
    {
     "name": "stderr",
     "output_type": "stream",
     "text": [
      "/usr/local/lib/python3.8/dist-packages/sklearn/base.py:443: UserWarning: X has feature names, but RandomForestClassifier was fitted without feature names\n",
      "  warnings.warn(\n"
     ]
    }
   ],
   "source": [
    "#測試\n",
    "RF_pred= RF.predict(X_test)\n",
    "from sklearn.metrics import classification_report,confusion_matrix\n",
    "print(confusion_matrix(y_test,RF_pred))\n",
    "print(\"======================================================\\n\")\n",
    "print(classification_report(y_test,RF_pred))"
   ]
  },
  {
   "cell_type": "markdown",
   "metadata": {
    "id": "MK8vrDJHqg86"
   },
   "source": [
    "羅吉斯回歸"
   ]
  },
  {
   "cell_type": "code",
   "execution_count": null,
   "metadata": {
    "id": "qkzpztmsqg87"
   },
   "outputs": [],
   "source": [
    "from sklearn.linear_model import LogisticRegression\n",
    "LR = LogisticRegression(solver='newton-cg')\n",
    "LR.fit(X_resampled, y_resampled)"
   ]
  },
  {
   "cell_type": "code",
   "execution_count": null,
   "metadata": {
    "colab": {
     "base_uri": "https://localhost:8080/"
    },
    "executionInfo": {
     "elapsed": 20,
     "status": "ok",
     "timestamp": 1673350963611,
     "user": {
      "displayName": "張啟玥Selina",
      "userId": "14947581420412888356"
     },
     "user_tz": -480
    },
    "id": "ArJS3rIWqg87",
    "outputId": "47aa251b-cdef-4286-a007-a7cf988705ce"
   },
   "outputs": [
    {
     "name": "stdout",
     "output_type": "stream",
     "text": [
      "[[638  28]\n",
      " [175  25]]\n",
      "======================================================\n",
      "\n",
      "              precision    recall  f1-score   support\n",
      "\n",
      "         0.0       0.78      0.96      0.86       666\n",
      "         1.0       0.47      0.12      0.20       200\n",
      "\n",
      "    accuracy                           0.77       866\n",
      "   macro avg       0.63      0.54      0.53       866\n",
      "weighted avg       0.71      0.77      0.71       866\n",
      "\n"
     ]
    }
   ],
   "source": [
    "#訓練\n",
    "from sklearn.metrics import classification_report,confusion_matrix\n",
    "LR_pred= LR.predict(X_resampled)\n",
    "print(confusion_matrix(y_resampled,LR_pred))\n",
    "print(\"======================================================\\n\")\n",
    "print(classification_report(y_resampled,LR_pred))"
   ]
  },
  {
   "cell_type": "code",
   "execution_count": null,
   "metadata": {
    "colab": {
     "base_uri": "https://localhost:8080/"
    },
    "executionInfo": {
     "elapsed": 16,
     "status": "ok",
     "timestamp": 1673350963611,
     "user": {
      "displayName": "張啟玥Selina",
      "userId": "14947581420412888356"
     },
     "user_tz": -480
    },
    "id": "gKn3K06jqg87",
    "outputId": "c1b7e4e9-13c2-49f6-8d96-2b399d4b08ea"
   },
   "outputs": [
    {
     "name": "stdout",
     "output_type": "stream",
     "text": [
      "[[642  20]\n",
      " [ 19   1]]\n",
      "======================================================\n",
      "\n",
      "              precision    recall  f1-score   support\n",
      "\n",
      "         0.0       0.97      0.97      0.97       662\n",
      "         1.0       0.05      0.05      0.05        20\n",
      "\n",
      "    accuracy                           0.94       682\n",
      "   macro avg       0.51      0.51      0.51       682\n",
      "weighted avg       0.94      0.94      0.94       682\n",
      "\n"
     ]
    }
   ],
   "source": [
    "#測試\n",
    "from sklearn.metrics import classification_report,confusion_matrix\n",
    "LR_pred= LR.predict(X_test)\n",
    "print(confusion_matrix(y_test,LR_pred))\n",
    "print(\"======================================================\\n\")\n",
    "print(classification_report(y_test,LR_pred))"
   ]
  },
  {
   "cell_type": "markdown",
   "metadata": {
    "id": "1DMhiWXHqg87"
   },
   "source": [
    "KNN"
   ]
  },
  {
   "cell_type": "code",
   "execution_count": null,
   "metadata": {
    "colab": {
     "base_uri": "https://localhost:8080/"
    },
    "executionInfo": {
     "elapsed": 14,
     "status": "ok",
     "timestamp": 1673350963612,
     "user": {
      "displayName": "張啟玥Selina",
      "userId": "14947581420412888356"
     },
     "user_tz": -480
    },
    "id": "REAjSRN2qg87",
    "outputId": "42bda566-7da1-4216-a591-85b581e96836"
   },
   "outputs": [
    {
     "data": {
      "text/plain": [
       "KNeighborsClassifier(n_neighbors=3)"
      ]
     },
     "execution_count": 234,
     "metadata": {},
     "output_type": "execute_result"
    }
   ],
   "source": [
    "from sklearn.neighbors import KNeighborsClassifier\n",
    "knn = KNeighborsClassifier(n_neighbors=3) \n",
    "knn.fit(X_resampled, y_resampled)"
   ]
  },
  {
   "cell_type": "code",
   "execution_count": null,
   "metadata": {
    "colab": {
     "base_uri": "https://localhost:8080/"
    },
    "executionInfo": {
     "elapsed": 11,
     "status": "ok",
     "timestamp": 1673350963612,
     "user": {
      "displayName": "張啟玥Selina",
      "userId": "14947581420412888356"
     },
     "user_tz": -480
    },
    "id": "0fHQXyD5qg87",
    "outputId": "fcacb3c8-6709-4882-d03d-3a418c56ecaf"
   },
   "outputs": [
    {
     "name": "stdout",
     "output_type": "stream",
     "text": [
      "[[634  32]\n",
      " [ 90 110]]\n",
      "======================================================\n",
      "\n",
      "              precision    recall  f1-score   support\n",
      "\n",
      "         0.0       0.88      0.95      0.91       666\n",
      "         1.0       0.77      0.55      0.64       200\n",
      "\n",
      "    accuracy                           0.86       866\n",
      "   macro avg       0.83      0.75      0.78       866\n",
      "weighted avg       0.85      0.86      0.85       866\n",
      "\n"
     ]
    }
   ],
   "source": [
    "#訓練\n",
    "knn_pred= knn.predict(X_resampled)\n",
    "from sklearn.metrics import classification_report,confusion_matrix\n",
    "print(confusion_matrix(y_resampled,knn_pred))\n",
    "print(\"======================================================\\n\")\n",
    "print(classification_report(y_resampled,knn_pred))"
   ]
  },
  {
   "cell_type": "code",
   "execution_count": null,
   "metadata": {
    "colab": {
     "base_uri": "https://localhost:8080/"
    },
    "executionInfo": {
     "elapsed": 8,
     "status": "ok",
     "timestamp": 1673350963612,
     "user": {
      "displayName": "張啟玥Selina",
      "userId": "14947581420412888356"
     },
     "user_tz": -480
    },
    "id": "lQehRgcTqg87",
    "outputId": "cb48045d-edd7-44f2-d4e3-c669fadc31e2"
   },
   "outputs": [
    {
     "name": "stdout",
     "output_type": "stream",
     "text": [
      "[[589  73]\n",
      " [ 15   5]]\n",
      "======================================================\n",
      "\n",
      "              precision    recall  f1-score   support\n",
      "\n",
      "         0.0       0.98      0.89      0.93       662\n",
      "         1.0       0.06      0.25      0.10        20\n",
      "\n",
      "    accuracy                           0.87       682\n",
      "   macro avg       0.52      0.57      0.52       682\n",
      "weighted avg       0.95      0.87      0.91       682\n",
      "\n"
     ]
    }
   ],
   "source": [
    "#測試\n",
    "knn_pred= knn.predict(X_test)\n",
    "from sklearn.metrics import classification_report,confusion_matrix\n",
    "print(confusion_matrix(y_test,knn_pred))\n",
    "print(\"======================================================\\n\")\n",
    "print(classification_report(y_test,knn_pred))"
   ]
  }
 ],
 "metadata": {
  "colab": {
   "authorship_tag": "ABX9TyNOVTrpArSpywKbE53xvHFQ",
   "mount_file_id": "1H8n_u1qkFVUdMPnwRVyLn3bWErLNBLY0",
   "provenance": [
    {
     "file_id": "1lK1UJmEbLz-i8eRtyr2KRDSTnDsTGhF0",
     "timestamp": 1672749359883
    }
   ]
  },
  "kernelspec": {
   "display_name": "Python 3 (ipykernel)",
   "language": "python",
   "name": "python3"
  },
  "language_info": {
   "codemirror_mode": {
    "name": "ipython",
    "version": 3
   },
   "file_extension": ".py",
   "mimetype": "text/x-python",
   "name": "python",
   "nbconvert_exporter": "python",
   "pygments_lexer": "ipython3",
   "version": "3.8.16"
  }
 },
 "nbformat": 4,
 "nbformat_minor": 1
}
